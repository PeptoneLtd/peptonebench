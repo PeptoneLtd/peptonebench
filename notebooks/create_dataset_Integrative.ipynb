{
 "cells": [
  {
   "cell_type": "markdown",
   "id": "3e630ad8",
   "metadata": {},
   "source": [
    "# create PeptoneDB-Integrative metadata\n",
    "The integrative dataset is manually curated. This notebook simply gathers the available information into useful csv and computes G-scores"
   ]
  },
  {
   "cell_type": "code",
   "execution_count": null,
   "id": "da3c0b85",
   "metadata": {},
   "outputs": [],
   "source": [
    "import json\n",
    "import os.path\n",
    "from glob import glob\n",
    "\n",
    "import numpy as np\n",
    "import pandas as pd\n",
    "from tqdm import tqdm\n",
    "\n",
    "from peptonebench import nmrcs\n",
    "from peptonebench.trizod_gscores import compute_gscores\n",
    "\n",
    "DATA_PATH = os.path.abspath(\"../datasets/PeptoneDB-Integrative\")"
   ]
  },
  {
   "cell_type": "code",
   "execution_count": null,
   "id": "ad93a531",
   "metadata": {},
   "outputs": [],
   "source": [
    "labels = sorted([os.path.dirname(f).split(\"/\")[-1] for f in glob(f\"{DATA_PATH}/*/info.csv\")])\n",
    "assert labels == sorted([os.path.dirname(f).split(\"/\")[-1] for f in glob(f\"{DATA_PATH}/*/CS.dat\")]), (\n",
    "    \"we assume all entries have a info.csv and a CS.dat files\"\n",
    ")\n",
    "\n",
    "gscores = {}\n",
    "sequences = {}\n",
    "for label in tqdm(labels):\n",
    "    with open(f\"{DATA_PATH}/{label}/seq.fasta\") as f:\n",
    "        for line in f:\n",
    "            if line.startswith(\">\"):\n",
    "                assert line[1:].strip() == label, \"fasta header should match label\"\n",
    "            else:\n",
    "                sequences[label] = line.strip()\n",
    "    info_df = pd.read_csv(f\"{DATA_PATH}/{label}/info.csv\", index_col=\"Experiment\")\n",
    "    cs = nmrcs.experimental_cs_from_label(label)\n",
    "    gscores[label] = compute_gscores(\n",
    "        cs=cs,\n",
    "        sequence=sequences[label],\n",
    "        temperature=info_df.loc[\"CS\", \"Temp(K)\"],\n",
    "        pH=info_df.loc[\"CS\", \"pH\"],\n",
    "        ionic_strength=info_df.loc[\"CS\", \"Ionic(M)\"],\n",
    "    )"
   ]
  },
  {
   "cell_type": "code",
   "execution_count": null,
   "id": "19b6acb0",
   "metadata": {},
   "outputs": [],
   "source": [
    "with open(f\"{DATA_PATH}/PeptoneDB-Integrative.csv\", \"w\") as f:\n",
    "    f.write(\"label,sequence,length,mean_gscore,gscores\\n\")\n",
    "    for label in labels:\n",
    "        f.write(\n",
    "            f'{label},{sequences[label]},{len(sequences[label])},{np.nanmean(gscores[label])},\"{json.dumps(list(gscores[label]))}\"\\n'\n",
    "        )"
   ]
  }
 ],
 "metadata": {
  "kernelspec": {
   "display_name": "Python 3",
   "language": "python",
   "name": "python3"
  },
  "language_info": {
   "codemirror_mode": {
    "name": "ipython",
    "version": 3
   },
   "file_extension": ".py",
   "mimetype": "text/x-python",
   "name": "python",
   "nbconvert_exporter": "python",
   "pygments_lexer": "ipython3",
   "version": "3.10.12"
  }
 },
 "nbformat": 4,
 "nbformat_minor": 5
}
